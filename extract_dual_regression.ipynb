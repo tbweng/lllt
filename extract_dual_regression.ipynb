{
 "cells": [
  {
   "cell_type": "code",
   "execution_count": 1,
   "metadata": {},
   "outputs": [],
   "source": [
    "import glob\n",
    "import pandas as pd\n",
    "from nilearn import image\n",
    "from nilearn.masking import apply_mask\n",
    "import numpy as np"
   ]
  },
  {
   "cell_type": "markdown",
   "metadata": {},
   "source": [
    "# Extract mean FC from dual regression spatial maps"
   ]
  },
  {
   "cell_type": "code",
   "execution_count": 123,
   "metadata": {},
   "outputs": [],
   "source": [
    "# get list of dr outputs\n",
    "dr_list = sorted(glob.glob('sub-*/output/pipeline_analysis_nuisance/sub-*/dr_tempreg_maps_zstat_files_to_standard_smooth/_scan_rest*/*/_spatial_map_PNAS_Smith09_rsn10_spatial_map_file_..cpac_templates..PNAS_Smith09_rsn10.nii.gz/_fwhm_4'))        \n",
    "          "
   ]
  },
  {
   "cell_type": "code",
   "execution_count": null,
   "metadata": {},
   "outputs": [],
   "source": [
    "li = []\n",
    "\n",
    "# for each DR output\n",
    "for dr in dr_list:\n",
    "\n",
    "    sub=str(dr.split('/')[0].split('-')[1])\n",
    "    ses=dr.split('/')[3].split('_')[1].split('-')[1]\n",
    "    nreg=dr.split('/')[6].split('_selector_CSF-2mmE-M_aC-WM-2mm-DPC5_')[1][:-8]\n",
    "    \n",
    "    if nreg == 'G-M_M':\n",
    "        nreg_id = '0'\n",
    "    elif nreg == 'M':\n",
    "        nreg_id = '1'\n",
    "        \n",
    "    # for each net\n",
    "    for i in range(9):\n",
    "        \n",
    "        dr_file = dr + '/_dr_tempreg_maps_zstat_files_to_standard_smooth_' + nreg_id + str(i) + '/temp_reg_map_z_000' + str(i) + '_antswarp_maths.nii.gz'\n",
    "        \n",
    "        # threshold img to 99% percentile -> mask -> extract mean values within mask\n",
    "        mean_FC = np.mean(apply_mask(dr_file, math_img('img > 0', img = threshold_img(dr_file, threshold='99%', copy=False))))\n",
    "\n",
    "        li.append([sub, ses, nreg, i, mean_FC])\n",
    "    \n",
    "df = pd.DataFrame(li, columns = ['participant_id', 'session_id', 'nreg', 'net_id', 'meanFC']) \n",
    "\n",
    "df.to_csv('extract_dual_regression.csv', index = False)\n",
    "\n",
    "df"
   ]
  }
 ],
 "metadata": {
  "kernelspec": {
   "display_name": "Python 3",
   "language": "python",
   "name": "python3"
  },
  "language_info": {
   "codemirror_mode": {
    "name": "ipython",
    "version": 3
   },
   "file_extension": ".py",
   "mimetype": "text/x-python",
   "name": "python",
   "nbconvert_exporter": "python",
   "pygments_lexer": "ipython3",
   "version": "3.7.7"
  }
 },
 "nbformat": 4,
 "nbformat_minor": 4
}
